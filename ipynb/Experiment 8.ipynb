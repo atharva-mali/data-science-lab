{
 "cells": [
  {
   "cell_type": "markdown",
   "id": "56bbc935",
   "metadata": {},
   "source": [
    "#### Name: Atharva Suryakant Mali | Class: TY BCA | Roll No.: 04 | DS LAB"
   ]
  },
  {
   "cell_type": "markdown",
   "id": "76441225",
   "metadata": {},
   "source": [
    "<h1 style=\"text-align: center;\">Experiment 8</h1>"
   ]
  },
  {
   "cell_type": "markdown",
   "id": "e3d8428d",
   "metadata": {},
   "source": [
    "### Create a time series forecasting model using linear regression for dataset climate, gold price and vegetable selling (use average selling price)."
   ]
  },
  {
   "cell_type": "markdown",
   "id": "b939a867",
   "metadata": {},
   "source": [
    "#### 1. Time series forecasting model for climate data set."
   ]
  },
  {
   "cell_type": "code",
   "execution_count": 406,
   "id": "0f49e9ac",
   "metadata": {},
   "outputs": [],
   "source": [
    "import pandas as pd\n",
    "import matplotlib.pyplot as pt"
   ]
  },
  {
   "cell_type": "code",
   "execution_count": 407,
   "id": "f47314bb",
   "metadata": {},
   "outputs": [],
   "source": [
    "df = pd.read_csv(\"delhi_climate.csv\",index_col=\"date\",parse_dates=True)"
   ]
  },
  {
   "cell_type": "code",
   "execution_count": 408,
   "id": "84b827c6",
   "metadata": {},
   "outputs": [
    {
     "data": {
      "text/html": [
       "<div>\n",
       "<style scoped>\n",
       "    .dataframe tbody tr th:only-of-type {\n",
       "        vertical-align: middle;\n",
       "    }\n",
       "\n",
       "    .dataframe tbody tr th {\n",
       "        vertical-align: top;\n",
       "    }\n",
       "\n",
       "    .dataframe thead th {\n",
       "        text-align: right;\n",
       "    }\n",
       "</style>\n",
       "<table border=\"1\" class=\"dataframe\">\n",
       "  <thead>\n",
       "    <tr style=\"text-align: right;\">\n",
       "      <th></th>\n",
       "      <th>humidity</th>\n",
       "    </tr>\n",
       "    <tr>\n",
       "      <th>date</th>\n",
       "      <th></th>\n",
       "    </tr>\n",
       "  </thead>\n",
       "  <tbody>\n",
       "    <tr>\n",
       "      <th>2013-01-01</th>\n",
       "      <td>84.500000</td>\n",
       "    </tr>\n",
       "    <tr>\n",
       "      <th>2013-01-02</th>\n",
       "      <td>92.000000</td>\n",
       "    </tr>\n",
       "    <tr>\n",
       "      <th>2013-01-03</th>\n",
       "      <td>87.000000</td>\n",
       "    </tr>\n",
       "    <tr>\n",
       "      <th>2013-01-04</th>\n",
       "      <td>71.333333</td>\n",
       "    </tr>\n",
       "    <tr>\n",
       "      <th>2013-01-05</th>\n",
       "      <td>86.833333</td>\n",
       "    </tr>\n",
       "    <tr>\n",
       "      <th>...</th>\n",
       "      <td>...</td>\n",
       "    </tr>\n",
       "    <tr>\n",
       "      <th>2016-12-28</th>\n",
       "      <td>68.043478</td>\n",
       "    </tr>\n",
       "    <tr>\n",
       "      <th>2016-12-29</th>\n",
       "      <td>87.857143</td>\n",
       "    </tr>\n",
       "    <tr>\n",
       "      <th>2016-12-30</th>\n",
       "      <td>89.666667</td>\n",
       "    </tr>\n",
       "    <tr>\n",
       "      <th>2016-12-31</th>\n",
       "      <td>87.000000</td>\n",
       "    </tr>\n",
       "    <tr>\n",
       "      <th>2017-01-01</th>\n",
       "      <td>100.000000</td>\n",
       "    </tr>\n",
       "  </tbody>\n",
       "</table>\n",
       "<p>1462 rows × 1 columns</p>\n",
       "</div>"
      ],
      "text/plain": [
       "              humidity\n",
       "date                  \n",
       "2013-01-01   84.500000\n",
       "2013-01-02   92.000000\n",
       "2013-01-03   87.000000\n",
       "2013-01-04   71.333333\n",
       "2013-01-05   86.833333\n",
       "...                ...\n",
       "2016-12-28   68.043478\n",
       "2016-12-29   87.857143\n",
       "2016-12-30   89.666667\n",
       "2016-12-31   87.000000\n",
       "2017-01-01  100.000000\n",
       "\n",
       "[1462 rows x 1 columns]"
      ]
     },
     "execution_count": 408,
     "metadata": {},
     "output_type": "execute_result"
    }
   ],
   "source": [
    "df"
   ]
  },
  {
   "cell_type": "code",
   "execution_count": 409,
   "id": "96c2334a",
   "metadata": {},
   "outputs": [],
   "source": [
    "df.columns = ['humidity']"
   ]
  },
  {
   "cell_type": "code",
   "execution_count": 410,
   "id": "7acf7317",
   "metadata": {},
   "outputs": [
    {
     "data": {
      "text/plain": [
       "<Axes: xlabel='date'>"
      ]
     },
     "execution_count": 410,
     "metadata": {},
     "output_type": "execute_result"
    },
    {
     "data": {
      "image/png": "[encoded data removed]",
      "text/plain": [
       "<Figure size 640x480 with 1 Axes>"
      ]
     },
     "metadata": {},
     "output_type": "display_data"
    }
   ],
   "source": [
    "df.plot()"
   ]
  },
  {
   "cell_type": "code",
   "execution_count": 411,
   "id": "a4239417",
   "metadata": {},
   "outputs": [],
   "source": [
    "df['humidity_lastmonth']=df['humidity'].shift(+1)\n",
    "df['humidity_2monthback']=df['humidity'].shift(+2)\n",
    "df['humidity_3monthback']=df['humidity'].shift(+3)"
   ]
  },
  {
   "cell_type": "code",
   "execution_count": 412,
   "id": "34b2eb3a",
   "metadata": {},
   "outputs": [
    {
     "data": {
      "text/html": [
       "<div>\n",
       "<style scoped>\n",
       "    .dataframe tbody tr th:only-of-type {\n",
       "        vertical-align: middle;\n",
       "    }\n",
       "\n",
       "    .dataframe tbody tr th {\n",
       "        vertical-align: top;\n",
       "    }\n",
       "\n",
       "    .dataframe thead th {\n",
       "        text-align: right;\n",
       "    }\n",
       "</style>\n",
       "<table border=\"1\" class=\"dataframe\">\n",
       "  <thead>\n",
       "    <tr style=\"text-align: right;\">\n",
       "      <th></th>\n",
       "      <th>humidity</th>\n",
       "      <th>humidity_lastmonth</th>\n",
       "      <th>humidity_2monthback</th>\n",
       "      <th>humidity_3monthback</th>\n",
       "    </tr>\n",
       "    <tr>\n",
       "      <th>date</th>\n",
       "      <th></th>\n",
       "      <th></th>\n",
       "      <th></th>\n",
       "      <th></th>\n",
       "    </tr>\n",
       "  </thead>\n",
       "  <tbody>\n",
       "    <tr>\n",
       "      <th>2013-01-01</th>\n",
       "      <td>84.500000</td>\n",
       "      <td>NaN</td>\n",
       "      <td>NaN</td>\n",
       "      <td>NaN</td>\n",
       "    </tr>\n",
       "    <tr>\n",
       "      <th>2013-01-02</th>\n",
       "      <td>92.000000</td>\n",
       "      <td>84.500000</td>\n",
       "      <td>NaN</td>\n",
       "      <td>NaN</td>\n",
       "    </tr>\n",
       "    <tr>\n",
       "      <th>2013-01-03</th>\n",
       "      <td>87.000000</td>\n",
       "      <td>92.000000</td>\n",
       "      <td>84.500000</td>\n",
       "      <td>NaN</td>\n",
       "    </tr>\n",
       "    <tr>\n",
       "      <th>2013-01-04</th>\n",
       "      <td>71.333333</td>\n",
       "      <td>87.000000</td>\n",
       "      <td>92.000000</td>\n",
       "      <td>84.500000</td>\n",
       "    </tr>\n",
       "    <tr>\n",
       "      <th>2013-01-05</th>\n",
       "      <td>86.833333</td>\n",
       "      <td>71.333333</td>\n",
       "      <td>87.000000</td>\n",
       "      <td>92.000000</td>\n",
       "    </tr>\n",
       "    <tr>\n",
       "      <th>...</th>\n",
       "      <td>...</td>\n",
       "      <td>...</td>\n",
       "      <td>...</td>\n",
       "      <td>...</td>\n",
       "    </tr>\n",
       "    <tr>\n",
       "      <th>2016-12-28</th>\n",
       "      <td>68.043478</td>\n",
       "      <td>67.550000</td>\n",
       "      <td>74.857143</td>\n",
       "      <td>94.300000</td>\n",
       "    </tr>\n",
       "    <tr>\n",
       "      <th>2016-12-29</th>\n",
       "      <td>87.857143</td>\n",
       "      <td>68.043478</td>\n",
       "      <td>67.550000</td>\n",
       "      <td>74.857143</td>\n",
       "    </tr>\n",
       "    <tr>\n",
       "      <th>2016-12-30</th>\n",
       "      <td>89.666667</td>\n",
       "      <td>87.857143</td>\n",
       "      <td>68.043478</td>\n",
       "      <td>67.550000</td>\n",
       "    </tr>\n",
       "    <tr>\n",
       "      <th>2016-12-31</th>\n",
       "      <td>87.000000</td>\n",
       "      <td>89.666667</td>\n",
       "      <td>87.857143</td>\n",
       "      <td>68.043478</td>\n",
       "    </tr>\n",
       "    <tr>\n",
       "      <th>2017-01-01</th>\n",
       "      <td>100.000000</td>\n",
       "      <td>87.000000</td>\n",
       "      <td>89.666667</td>\n",
       "      <td>87.857143</td>\n",
       "    </tr>\n",
       "  </tbody>\n",
       "</table>\n",
       "<p>1462 rows × 4 columns</p>\n",
       "</div>"
      ],
      "text/plain": [
       "              humidity  humidity_lastmonth  humidity_2monthback  \\\n",
       "date                                                              \n",
       "2013-01-01   84.500000                 NaN                  NaN   \n",
       "2013-01-02   92.000000           84.500000                  NaN   \n",
       "2013-01-03   87.000000           92.000000            84.500000   \n",
       "2013-01-04   71.333333           87.000000            92.000000   \n",
       "2013-01-05   86.833333           71.333333            87.000000   \n",
       "...                ...                 ...                  ...   \n",
       "2016-12-28   68.043478           67.550000            74.857143   \n",
       "2016-12-29   87.857143           68.043478            67.550000   \n",
       "2016-12-30   89.666667           87.857143            68.043478   \n",
       "2016-12-31   87.000000           89.666667            87.857143   \n",
       "2017-01-01  100.000000           87.000000            89.666667   \n",
       "\n",
       "            humidity_3monthback  \n",
       "date                             \n",
       "2013-01-01                  NaN  \n",
       "2013-01-02                  NaN  \n",
       "2013-01-03                  NaN  \n",
       "2013-01-04            84.500000  \n",
       "2013-01-05            92.000000  \n",
       "...                         ...  \n",
       "2016-12-28            94.300000  \n",
       "2016-12-29            74.857143  \n",
       "2016-12-30            67.550000  \n",
       "2016-12-31            68.043478  \n",
       "2017-01-01            87.857143  \n",
       "\n",
       "[1462 rows x 4 columns]"
      ]
     },
     "execution_count": 412,
     "metadata": {},
     "output_type": "execute_result"
    }
   ],
   "source": [
    "df"
   ]
  },
  {
   "cell_type": "code",
   "execution_count": 413,
   "id": "0199e55c",
   "metadata": {},
   "outputs": [
    {
     "data": {
      "text/html": [
       "<div>\n",
       "<style scoped>\n",
       "    .dataframe tbody tr th:only-of-type {\n",
       "        vertical-align: middle;\n",
       "    }\n",
       "\n",
       "    .dataframe tbody tr th {\n",
       "        vertical-align: top;\n",
       "    }\n",
       "\n",
       "    .dataframe thead th {\n",
       "        text-align: right;\n",
       "    }\n",
       "</style>\n",
       "<table border=\"1\" class=\"dataframe\">\n",
       "  <thead>\n",
       "    <tr style=\"text-align: right;\">\n",
       "      <th></th>\n",
       "      <th>humidity</th>\n",
       "      <th>humidity_lastmonth</th>\n",
       "      <th>humidity_2monthback</th>\n",
       "      <th>humidity_3monthback</th>\n",
       "    </tr>\n",
       "    <tr>\n",
       "      <th>date</th>\n",
       "      <th></th>\n",
       "      <th></th>\n",
       "      <th></th>\n",
       "      <th></th>\n",
       "    </tr>\n",
       "  </thead>\n",
       "  <tbody>\n",
       "    <tr>\n",
       "      <th>2013-01-04</th>\n",
       "      <td>71.333333</td>\n",
       "      <td>87.000000</td>\n",
       "      <td>92.000000</td>\n",
       "      <td>84.500000</td>\n",
       "    </tr>\n",
       "    <tr>\n",
       "      <th>2013-01-05</th>\n",
       "      <td>86.833333</td>\n",
       "      <td>71.333333</td>\n",
       "      <td>87.000000</td>\n",
       "      <td>92.000000</td>\n",
       "    </tr>\n",
       "    <tr>\n",
       "      <th>2013-01-06</th>\n",
       "      <td>82.800000</td>\n",
       "      <td>86.833333</td>\n",
       "      <td>71.333333</td>\n",
       "      <td>87.000000</td>\n",
       "    </tr>\n",
       "    <tr>\n",
       "      <th>2013-01-07</th>\n",
       "      <td>78.600000</td>\n",
       "      <td>82.800000</td>\n",
       "      <td>86.833333</td>\n",
       "      <td>71.333333</td>\n",
       "    </tr>\n",
       "    <tr>\n",
       "      <th>2013-01-08</th>\n",
       "      <td>63.714286</td>\n",
       "      <td>78.600000</td>\n",
       "      <td>82.800000</td>\n",
       "      <td>86.833333</td>\n",
       "    </tr>\n",
       "    <tr>\n",
       "      <th>...</th>\n",
       "      <td>...</td>\n",
       "      <td>...</td>\n",
       "      <td>...</td>\n",
       "      <td>...</td>\n",
       "    </tr>\n",
       "    <tr>\n",
       "      <th>2016-12-28</th>\n",
       "      <td>68.043478</td>\n",
       "      <td>67.550000</td>\n",
       "      <td>74.857143</td>\n",
       "      <td>94.300000</td>\n",
       "    </tr>\n",
       "    <tr>\n",
       "      <th>2016-12-29</th>\n",
       "      <td>87.857143</td>\n",
       "      <td>68.043478</td>\n",
       "      <td>67.550000</td>\n",
       "      <td>74.857143</td>\n",
       "    </tr>\n",
       "    <tr>\n",
       "      <th>2016-12-30</th>\n",
       "      <td>89.666667</td>\n",
       "      <td>87.857143</td>\n",
       "      <td>68.043478</td>\n",
       "      <td>67.550000</td>\n",
       "    </tr>\n",
       "    <tr>\n",
       "      <th>2016-12-31</th>\n",
       "      <td>87.000000</td>\n",
       "      <td>89.666667</td>\n",
       "      <td>87.857143</td>\n",
       "      <td>68.043478</td>\n",
       "    </tr>\n",
       "    <tr>\n",
       "      <th>2017-01-01</th>\n",
       "      <td>100.000000</td>\n",
       "      <td>87.000000</td>\n",
       "      <td>89.666667</td>\n",
       "      <td>87.857143</td>\n",
       "    </tr>\n",
       "  </tbody>\n",
       "</table>\n",
       "<p>1459 rows × 4 columns</p>\n",
       "</div>"
      ],
      "text/plain": [
       "              humidity  humidity_lastmonth  humidity_2monthback  \\\n",
       "date                                                              \n",
       "2013-01-04   71.333333           87.000000            92.000000   \n",
       "2013-01-05   86.833333           71.333333            87.000000   \n",
       "2013-01-06   82.800000           86.833333            71.333333   \n",
       "2013-01-07   78.600000           82.800000            86.833333   \n",
       "2013-01-08   63.714286           78.600000            82.800000   \n",
       "...                ...                 ...                  ...   \n",
       "2016-12-28   68.043478           67.550000            74.857143   \n",
       "2016-12-29   87.857143           68.043478            67.550000   \n",
       "2016-12-30   89.666667           87.857143            68.043478   \n",
       "2016-12-31   87.000000           89.666667            87.857143   \n",
       "2017-01-01  100.000000           87.000000            89.666667   \n",
       "\n",
       "            humidity_3monthback  \n",
       "date                             \n",
       "2013-01-04            84.500000  \n",
       "2013-01-05            92.000000  \n",
       "2013-01-06            87.000000  \n",
       "2013-01-07            71.333333  \n",
       "2013-01-08            86.833333  \n",
       "...                         ...  \n",
       "2016-12-28            94.300000  \n",
       "2016-12-29            74.857143  \n",
       "2016-12-30            67.550000  \n",
       "2016-12-31            68.043478  \n",
       "2017-01-01            87.857143  \n",
       "\n",
       "[1459 rows x 4 columns]"
      ]
     },
     "execution_count": 413,
     "metadata": {},
     "output_type": "execute_result"
    }
   ],
   "source": [
    "df=df.dropna()\n",
    "df"
   ]
  },
  {
   "cell_type": "code",
   "execution_count": 414,
   "id": "acd41c40",
   "metadata": {},
   "outputs": [],
   "source": [
    "from sklearn.linear_model import LinearRegression\n",
    "linear_model = LinearRegression()"
   ]
  },
  {
   "cell_type": "code",
   "execution_count": 415,
   "id": "f4de8177",
   "metadata": {},
   "outputs": [],
   "source": [
    "import numpy as np"
   ]
  },
  {
   "cell_type": "code",
   "execution_count": 416,
   "id": "eaf8c8ad",
   "metadata": {},
   "outputs": [],
   "source": [
    "x1,x2,x3,y = df['humidity_lastmonth'],df['humidity_2monthback'],df['humidity_3monthback'],df['humidity']\n",
    "x1,x2,x3,y = np.array(x1), np.array(x2), np.array(x3), np.array(y)"
   ]
  },
  {
   "cell_type": "code",
   "execution_count": 417,
   "id": "57269a09",
   "metadata": {},
   "outputs": [],
   "source": [
    "x1, x2, x3, y = x1.reshape(-1,1),x2.reshape(-1,1),x3.reshape(-1,1),y.reshape(-1,1) "
   ]
  },
  {
   "cell_type": "code",
   "execution_count": 418,
   "id": "72dc1d25",
   "metadata": {},
   "outputs": [
    {
     "name": "stdout",
     "output_type": "stream",
     "text": [
      "[[87.         92.         84.5       ]\n",
      " [71.33333333 87.         92.        ]\n",
      " [86.83333333 71.33333333 87.        ]\n",
      " ...\n",
      " [87.85714286 68.04347826 67.55      ]\n",
      " [89.66666667 87.85714286 68.04347826]\n",
      " [87.         89.66666667 87.85714286]]\n"
     ]
    }
   ],
   "source": [
    "final_x = np.concatenate((x1,x2,x3),axis=1)\n",
    "print(final_x)"
   ]
  },
  {
   "cell_type": "code",
   "execution_count": 419,
   "id": "c29c8209",
   "metadata": {},
   "outputs": [],
   "source": [
    "from sklearn.model_selection import train_test_split\n",
    "x_train, x_test, y_train, y_test = final_x[:-200],final_x[-200:],y[:-200],y[-200:]"
   ]
  },
  {
   "cell_type": "code",
   "execution_count": 420,
   "id": "0581bdc0",
   "metadata": {},
   "outputs": [
    {
     "data": {
      "text/plain": [
       "1259"
      ]
     },
     "execution_count": 420,
     "metadata": {},
     "output_type": "execute_result"
    }
   ],
   "source": [
    "len(x_train)"
   ]
  },
  {
   "cell_type": "code",
   "execution_count": 421,
   "id": "f9be58fd",
   "metadata": {},
   "outputs": [
    {
     "data": {
      "text/html": [
       "<style>#sk-container-id-20 {color: black;background-color: white;}#sk-container-id-20 pre{padding: 0;}#sk-container-id-20 div.sk-toggleable {background-color: white;}#sk-container-id-20 label.sk-toggleable__label {cursor: pointer;display: block;width: 100%;margin-bottom: 0;padding: 0.3em;box-sizing: border-box;text-align: center;}#sk-container-id-20 label.sk-toggleable__label-arrow:before {content: \"▸\";float: left;margin-right: 0.25em;color: #696969;}#sk-container-id-20 label.sk-toggleable__label-arrow:hover:before {color: black;}#sk-container-id-20 div.sk-estimator:hover label.sk-toggleable__label-arrow:before {color: black;}#sk-container-id-20 div.sk-toggleable__content {max-height: 0;max-width: 0;overflow: hidden;text-align: left;background-color: #f0f8ff;}#sk-container-id-20 div.sk-toggleable__content pre {margin: 0.2em;color: black;border-radius: 0.25em;background-color: #f0f8ff;}#sk-container-id-20 input.sk-toggleable__control:checked~div.sk-toggleable__content {max-height: 200px;max-width: 100%;overflow: auto;}#sk-container-id-20 input.sk-toggleable__control:checked~label.sk-toggleable__label-arrow:before {content: \"▾\";}#sk-container-id-20 div.sk-estimator input.sk-toggleable__control:checked~label.sk-toggleable__label {background-color: #d4ebff;}#sk-container-id-20 div.sk-label input.sk-toggleable__control:checked~label.sk-toggleable__label {background-color: #d4ebff;}#sk-container-id-20 input.sk-hidden--visually {border: 0;clip: rect(1px 1px 1px 1px);clip: rect(1px, 1px, 1px, 1px);height: 1px;margin: -1px;overflow: hidden;padding: 0;position: absolute;width: 1px;}#sk-container-id-20 div.sk-estimator {font-family: monospace;background-color: #f0f8ff;border: 1px dotted black;border-radius: 0.25em;box-sizing: border-box;margin-bottom: 0.5em;}#sk-container-id-20 div.sk-estimator:hover {background-color: #d4ebff;}#sk-container-id-20 div.sk-parallel-item::after {content: \"\";width: 100%;border-bottom: 1px solid gray;flex-grow: 1;}#sk-container-id-20 div.sk-label:hover label.sk-toggleable__label {background-color: #d4ebff;}#sk-container-id-20 div.sk-serial::before {content: \"\";position: absolute;border-left: 1px solid gray;box-sizing: border-box;top: 0;bottom: 0;left: 50%;z-index: 0;}#sk-container-id-20 div.sk-serial {display: flex;flex-direction: column;align-items: center;background-color: white;padding-right: 0.2em;padding-left: 0.2em;position: relative;}#sk-container-id-20 div.sk-item {position: relative;z-index: 1;}#sk-container-id-20 div.sk-parallel {display: flex;align-items: stretch;justify-content: center;background-color: white;position: relative;}#sk-container-id-20 div.sk-item::before, #sk-container-id-20 div.sk-parallel-item::before {content: \"\";position: absolute;border-left: 1px solid gray;box-sizing: border-box;top: 0;bottom: 0;left: 50%;z-index: -1;}#sk-container-id-20 div.sk-parallel-item {display: flex;flex-direction: column;z-index: 1;position: relative;background-color: white;}#sk-container-id-20 div.sk-parallel-item:first-child::after {align-self: flex-end;width: 50%;}#sk-container-id-20 div.sk-parallel-item:last-child::after {align-self: flex-start;width: 50%;}#sk-container-id-20 div.sk-parallel-item:only-child::after {width: 0;}#sk-container-id-20 div.sk-dashed-wrapped {border: 1px dashed gray;margin: 0 0.4em 0.5em 0.4em;box-sizing: border-box;padding-bottom: 0.4em;background-color: white;}#sk-container-id-20 div.sk-label label {font-family: monospace;font-weight: bold;display: inline-block;line-height: 1.2em;}#sk-container-id-20 div.sk-label-container {text-align: center;}#sk-container-id-20 div.sk-container {/* jupyter's `normalize.less` sets `[hidden] { display: none; }` but bootstrap.min.css set `[hidden] { display: none !important; }` so we also need the `!important` here to be able to override the default hidden behavior on the sphinx rendered scikit-learn.org. See: https://github.com/scikit-learn/scikit-learn/issues/21755 */display: inline-block !important;position: relative;}#sk-container-id-20 div.sk-text-repr-fallback {display: none;}</style><div id=\"sk-container-id-20\" class=\"sk-top-container\"><div class=\"sk-text-repr-fallback\"><pre>LinearRegression()</pre><b>In a Jupyter environment, please rerun this cell to show the HTML representation or trust the notebook. <br />On GitHub, the HTML representation is unable to render, please try loading this page with nbviewer.org.</b></div><div class=\"sk-container\" hidden><div class=\"sk-item\"><div class=\"sk-estimator sk-toggleable\"><input class=\"sk-toggleable__control sk-hidden--visually\" id=\"sk-estimator-id-20\" type=\"checkbox\" checked><label for=\"sk-estimator-id-20\" class=\"sk-toggleable__label sk-toggleable__label-arrow\">LinearRegression</label><div class=\"sk-toggleable__content\"><pre>LinearRegression()</pre></div></div></div></div></div>"
      ],
      "text/plain": [
       "LinearRegression()"
      ]
     },
     "execution_count": 421,
     "metadata": {},
     "output_type": "execute_result"
    }
   ],
   "source": [
    "linear_model.fit(x_train, y_train)"
   ]
  },
  {
   "cell_type": "code",
   "execution_count": 422,
   "id": "e56ef243",
   "metadata": {},
   "outputs": [
    {
     "data": {
      "text/plain": [
       "array([[25.57282704]])"
      ]
     },
     "execution_count": 422,
     "metadata": {},
     "output_type": "execute_result"
    }
   ],
   "source": [
    "prediction = linear_model.predict(x_test)\n",
    "linear_model.predict([[23,12,11]])"
   ]
  },
  {
   "cell_type": "code",
   "execution_count": 423,
   "id": "b66f6e63",
   "metadata": {},
   "outputs": [
    {
     "data": {
      "text/plain": [
       "<matplotlib.legend.Legend at 0x1ea576ce350>"
      ]
     },
     "execution_count": 423,
     "metadata": {},
     "output_type": "execute_result"
    },
    {
     "data": {
      "image/png": "[encoded data removed]",
      "text/plain": [
       "<Figure size 640x480 with 1 Axes>"
      ]
     },
     "metadata": {},
     "output_type": "display_data"
    }
   ],
   "source": [
    "pt.plot(prediction, label='Linear Regression prediction',color='red')\n",
    "pt.plot(y_test,label='actual humidity')\n",
    "pt.legend(loc='upper left')"
   ]
  },
  {
   "cell_type": "markdown",
   "id": "05e44467",
   "metadata": {},
   "source": [
    "#### 2. Time series forecasting model for gold price data set."
   ]
  },
  {
   "cell_type": "code",
   "execution_count": 424,
   "id": "65720811",
   "metadata": {},
   "outputs": [],
   "source": [
    "import pandas as pd\n",
    "import matplotlib.pyplot as pt"
   ]
  },
  {
   "cell_type": "code",
   "execution_count": 425,
   "id": "f716d485",
   "metadata": {},
   "outputs": [],
   "source": [
    "df = pd.read_csv(\"gold_price_data.csv\",index_col=\"Date\",parse_dates=True)"
   ]
  },
  {
   "cell_type": "code",
   "execution_count": 426,
   "id": "1780f9c2",
   "metadata": {},
   "outputs": [
    {
     "data": {
      "text/html": [
       "<div>\n",
       "<style scoped>\n",
       "    .dataframe tbody tr th:only-of-type {\n",
       "        vertical-align: middle;\n",
       "    }\n",
       "\n",
       "    .dataframe tbody tr th {\n",
       "        vertical-align: top;\n",
       "    }\n",
       "\n",
       "    .dataframe thead th {\n",
       "        text-align: right;\n",
       "    }\n",
       "</style>\n",
       "<table border=\"1\" class=\"dataframe\">\n",
       "  <thead>\n",
       "    <tr style=\"text-align: right;\">\n",
       "      <th></th>\n",
       "      <th>Value</th>\n",
       "    </tr>\n",
       "    <tr>\n",
       "      <th>Date</th>\n",
       "      <th></th>\n",
       "    </tr>\n",
       "  </thead>\n",
       "  <tbody>\n",
       "    <tr>\n",
       "      <th>1970-01-01</th>\n",
       "      <td>35.20</td>\n",
       "    </tr>\n",
       "    <tr>\n",
       "      <th>1970-04-01</th>\n",
       "      <td>35.10</td>\n",
       "    </tr>\n",
       "    <tr>\n",
       "      <th>1970-07-01</th>\n",
       "      <td>35.40</td>\n",
       "    </tr>\n",
       "    <tr>\n",
       "      <th>1970-10-01</th>\n",
       "      <td>36.20</td>\n",
       "    </tr>\n",
       "    <tr>\n",
       "      <th>1971-01-01</th>\n",
       "      <td>37.40</td>\n",
       "    </tr>\n",
       "    <tr>\n",
       "      <th>...</th>\n",
       "      <td>...</td>\n",
       "    </tr>\n",
       "    <tr>\n",
       "      <th>2020-03-09</th>\n",
       "      <td>1672.50</td>\n",
       "    </tr>\n",
       "    <tr>\n",
       "      <th>2020-03-10</th>\n",
       "      <td>1655.70</td>\n",
       "    </tr>\n",
       "    <tr>\n",
       "      <th>2020-03-11</th>\n",
       "      <td>1653.75</td>\n",
       "    </tr>\n",
       "    <tr>\n",
       "      <th>2020-03-12</th>\n",
       "      <td>1570.70</td>\n",
       "    </tr>\n",
       "    <tr>\n",
       "      <th>2020-03-13</th>\n",
       "      <td>1562.80</td>\n",
       "    </tr>\n",
       "  </tbody>\n",
       "</table>\n",
       "<p>10787 rows × 1 columns</p>\n",
       "</div>"
      ],
      "text/plain": [
       "              Value\n",
       "Date               \n",
       "1970-01-01    35.20\n",
       "1970-04-01    35.10\n",
       "1970-07-01    35.40\n",
       "1970-10-01    36.20\n",
       "1971-01-01    37.40\n",
       "...             ...\n",
       "2020-03-09  1672.50\n",
       "2020-03-10  1655.70\n",
       "2020-03-11  1653.75\n",
       "2020-03-12  1570.70\n",
       "2020-03-13  1562.80\n",
       "\n",
       "[10787 rows x 1 columns]"
      ]
     },
     "execution_count": 426,
     "metadata": {},
     "output_type": "execute_result"
    }
   ],
   "source": [
    "df"
   ]
  },
  {
   "cell_type": "code",
   "execution_count": 427,
   "id": "5172dfe7",
   "metadata": {},
   "outputs": [],
   "source": [
    "df.columns = ['Value']"
   ]
  },
  {
   "cell_type": "code",
   "execution_count": 428,
   "id": "0e58bc0c",
   "metadata": {},
   "outputs": [
    {
     "data": {
      "text/plain": [
       "<Axes: xlabel='Date'>"
      ]
     },
     "execution_count": 428,
     "metadata": {},
     "output_type": "execute_result"
    },
    {
     "data": {
      "image/png": "[encoded data removed]",
      "text/plain": [
       "<Figure size 640x480 with 1 Axes>"
      ]
     },
     "metadata": {},
     "output_type": "display_data"
    }
   ],
   "source": [
    "df.plot()"
   ]
  },
  {
   "cell_type": "code",
   "execution_count": 429,
   "id": "c6119003",
   "metadata": {},
   "outputs": [],
   "source": [
    "df['Value_lastmonth']=df['Value'].shift(+1)\n",
    "df['Value_2monthback']=df['Value'].shift(+2)\n",
    "df['Value_3monthback']=df['Value'].shift(+3)"
   ]
  },
  {
   "cell_type": "code",
   "execution_count": 430,
   "id": "7400c09b",
   "metadata": {},
   "outputs": [
    {
     "data": {
      "text/html": [
       "<div>\n",
       "<style scoped>\n",
       "    .dataframe tbody tr th:only-of-type {\n",
       "        vertical-align: middle;\n",
       "    }\n",
       "\n",
       "    .dataframe tbody tr th {\n",
       "        vertical-align: top;\n",
       "    }\n",
       "\n",
       "    .dataframe thead th {\n",
       "        text-align: right;\n",
       "    }\n",
       "</style>\n",
       "<table border=\"1\" class=\"dataframe\">\n",
       "  <thead>\n",
       "    <tr style=\"text-align: right;\">\n",
       "      <th></th>\n",
       "      <th>Value</th>\n",
       "      <th>Value_lastmonth</th>\n",
       "      <th>Value_2monthback</th>\n",
       "      <th>Value_3monthback</th>\n",
       "    </tr>\n",
       "    <tr>\n",
       "      <th>Date</th>\n",
       "      <th></th>\n",
       "      <th></th>\n",
       "      <th></th>\n",
       "      <th></th>\n",
       "    </tr>\n",
       "  </thead>\n",
       "  <tbody>\n",
       "    <tr>\n",
       "      <th>1970-01-01</th>\n",
       "      <td>35.20</td>\n",
       "      <td>NaN</td>\n",
       "      <td>NaN</td>\n",
       "      <td>NaN</td>\n",
       "    </tr>\n",
       "    <tr>\n",
       "      <th>1970-04-01</th>\n",
       "      <td>35.10</td>\n",
       "      <td>35.20</td>\n",
       "      <td>NaN</td>\n",
       "      <td>NaN</td>\n",
       "    </tr>\n",
       "    <tr>\n",
       "      <th>1970-07-01</th>\n",
       "      <td>35.40</td>\n",
       "      <td>35.10</td>\n",
       "      <td>35.20</td>\n",
       "      <td>NaN</td>\n",
       "    </tr>\n",
       "    <tr>\n",
       "      <th>1970-10-01</th>\n",
       "      <td>36.20</td>\n",
       "      <td>35.40</td>\n",
       "      <td>35.10</td>\n",
       "      <td>35.20</td>\n",
       "    </tr>\n",
       "    <tr>\n",
       "      <th>1971-01-01</th>\n",
       "      <td>37.40</td>\n",
       "      <td>36.20</td>\n",
       "      <td>35.40</td>\n",
       "      <td>35.10</td>\n",
       "    </tr>\n",
       "    <tr>\n",
       "      <th>...</th>\n",
       "      <td>...</td>\n",
       "      <td>...</td>\n",
       "      <td>...</td>\n",
       "      <td>...</td>\n",
       "    </tr>\n",
       "    <tr>\n",
       "      <th>2020-03-09</th>\n",
       "      <td>1672.50</td>\n",
       "      <td>1683.65</td>\n",
       "      <td>1659.60</td>\n",
       "      <td>1641.85</td>\n",
       "    </tr>\n",
       "    <tr>\n",
       "      <th>2020-03-10</th>\n",
       "      <td>1655.70</td>\n",
       "      <td>1672.50</td>\n",
       "      <td>1683.65</td>\n",
       "      <td>1659.60</td>\n",
       "    </tr>\n",
       "    <tr>\n",
       "      <th>2020-03-11</th>\n",
       "      <td>1653.75</td>\n",
       "      <td>1655.70</td>\n",
       "      <td>1672.50</td>\n",
       "      <td>1683.65</td>\n",
       "    </tr>\n",
       "    <tr>\n",
       "      <th>2020-03-12</th>\n",
       "      <td>1570.70</td>\n",
       "      <td>1653.75</td>\n",
       "      <td>1655.70</td>\n",
       "      <td>1672.50</td>\n",
       "    </tr>\n",
       "    <tr>\n",
       "      <th>2020-03-13</th>\n",
       "      <td>1562.80</td>\n",
       "      <td>1570.70</td>\n",
       "      <td>1653.75</td>\n",
       "      <td>1655.70</td>\n",
       "    </tr>\n",
       "  </tbody>\n",
       "</table>\n",
       "<p>10787 rows × 4 columns</p>\n",
       "</div>"
      ],
      "text/plain": [
       "              Value  Value_lastmonth  Value_2monthback  Value_3monthback\n",
       "Date                                                                    \n",
       "1970-01-01    35.20              NaN               NaN               NaN\n",
       "1970-04-01    35.10            35.20               NaN               NaN\n",
       "1970-07-01    35.40            35.10             35.20               NaN\n",
       "1970-10-01    36.20            35.40             35.10             35.20\n",
       "1971-01-01    37.40            36.20             35.40             35.10\n",
       "...             ...              ...               ...               ...\n",
       "2020-03-09  1672.50          1683.65           1659.60           1641.85\n",
       "2020-03-10  1655.70          1672.50           1683.65           1659.60\n",
       "2020-03-11  1653.75          1655.70           1672.50           1683.65\n",
       "2020-03-12  1570.70          1653.75           1655.70           1672.50\n",
       "2020-03-13  1562.80          1570.70           1653.75           1655.70\n",
       "\n",
       "[10787 rows x 4 columns]"
      ]
     },
     "execution_count": 430,
     "metadata": {},
     "output_type": "execute_result"
    }
   ],
   "source": [
    "df"
   ]
  },
  {
   "cell_type": "code",
   "execution_count": 431,
   "id": "624bee46",
   "metadata": {},
   "outputs": [
    {
     "data": {
      "text/html": [
       "<div>\n",
       "<style scoped>\n",
       "    .dataframe tbody tr th:only-of-type {\n",
       "        vertical-align: middle;\n",
       "    }\n",
       "\n",
       "    .dataframe tbody tr th {\n",
       "        vertical-align: top;\n",
       "    }\n",
       "\n",
       "    .dataframe thead th {\n",
       "        text-align: right;\n",
       "    }\n",
       "</style>\n",
       "<table border=\"1\" class=\"dataframe\">\n",
       "  <thead>\n",
       "    <tr style=\"text-align: right;\">\n",
       "      <th></th>\n",
       "      <th>Value</th>\n",
       "      <th>Value_lastmonth</th>\n",
       "      <th>Value_2monthback</th>\n",
       "      <th>Value_3monthback</th>\n",
       "    </tr>\n",
       "    <tr>\n",
       "      <th>Date</th>\n",
       "      <th></th>\n",
       "      <th></th>\n",
       "      <th></th>\n",
       "      <th></th>\n",
       "    </tr>\n",
       "  </thead>\n",
       "  <tbody>\n",
       "    <tr>\n",
       "      <th>1970-10-01</th>\n",
       "      <td>36.20</td>\n",
       "      <td>35.40</td>\n",
       "      <td>35.10</td>\n",
       "      <td>35.20</td>\n",
       "    </tr>\n",
       "    <tr>\n",
       "      <th>1971-01-01</th>\n",
       "      <td>37.40</td>\n",
       "      <td>36.20</td>\n",
       "      <td>35.40</td>\n",
       "      <td>35.10</td>\n",
       "    </tr>\n",
       "    <tr>\n",
       "      <th>1971-04-01</th>\n",
       "      <td>38.90</td>\n",
       "      <td>37.40</td>\n",
       "      <td>36.20</td>\n",
       "      <td>35.40</td>\n",
       "    </tr>\n",
       "    <tr>\n",
       "      <th>1971-07-01</th>\n",
       "      <td>40.10</td>\n",
       "      <td>38.90</td>\n",
       "      <td>37.40</td>\n",
       "      <td>36.20</td>\n",
       "    </tr>\n",
       "    <tr>\n",
       "      <th>1971-10-01</th>\n",
       "      <td>42.00</td>\n",
       "      <td>40.10</td>\n",
       "      <td>38.90</td>\n",
       "      <td>37.40</td>\n",
       "    </tr>\n",
       "    <tr>\n",
       "      <th>...</th>\n",
       "      <td>...</td>\n",
       "      <td>...</td>\n",
       "      <td>...</td>\n",
       "      <td>...</td>\n",
       "    </tr>\n",
       "    <tr>\n",
       "      <th>2020-03-09</th>\n",
       "      <td>1672.50</td>\n",
       "      <td>1683.65</td>\n",
       "      <td>1659.60</td>\n",
       "      <td>1641.85</td>\n",
       "    </tr>\n",
       "    <tr>\n",
       "      <th>2020-03-10</th>\n",
       "      <td>1655.70</td>\n",
       "      <td>1672.50</td>\n",
       "      <td>1683.65</td>\n",
       "      <td>1659.60</td>\n",
       "    </tr>\n",
       "    <tr>\n",
       "      <th>2020-03-11</th>\n",
       "      <td>1653.75</td>\n",
       "      <td>1655.70</td>\n",
       "      <td>1672.50</td>\n",
       "      <td>1683.65</td>\n",
       "    </tr>\n",
       "    <tr>\n",
       "      <th>2020-03-12</th>\n",
       "      <td>1570.70</td>\n",
       "      <td>1653.75</td>\n",
       "      <td>1655.70</td>\n",
       "      <td>1672.50</td>\n",
       "    </tr>\n",
       "    <tr>\n",
       "      <th>2020-03-13</th>\n",
       "      <td>1562.80</td>\n",
       "      <td>1570.70</td>\n",
       "      <td>1653.75</td>\n",
       "      <td>1655.70</td>\n",
       "    </tr>\n",
       "  </tbody>\n",
       "</table>\n",
       "<p>10784 rows × 4 columns</p>\n",
       "</div>"
      ],
      "text/plain": [
       "              Value  Value_lastmonth  Value_2monthback  Value_3monthback\n",
       "Date                                                                    \n",
       "1970-10-01    36.20            35.40             35.10             35.20\n",
       "1971-01-01    37.40            36.20             35.40             35.10\n",
       "1971-04-01    38.90            37.40             36.20             35.40\n",
       "1971-07-01    40.10            38.90             37.40             36.20\n",
       "1971-10-01    42.00            40.10             38.90             37.40\n",
       "...             ...              ...               ...               ...\n",
       "2020-03-09  1672.50          1683.65           1659.60           1641.85\n",
       "2020-03-10  1655.70          1672.50           1683.65           1659.60\n",
       "2020-03-11  1653.75          1655.70           1672.50           1683.65\n",
       "2020-03-12  1570.70          1653.75           1655.70           1672.50\n",
       "2020-03-13  1562.80          1570.70           1653.75           1655.70\n",
       "\n",
       "[10784 rows x 4 columns]"
      ]
     },
     "execution_count": 431,
     "metadata": {},
     "output_type": "execute_result"
    }
   ],
   "source": [
    "df=df.dropna()\n",
    "df"
   ]
  },
  {
   "cell_type": "code",
   "execution_count": 432,
   "id": "4e05c979",
   "metadata": {},
   "outputs": [],
   "source": [
    "from sklearn.linear_model import LinearRegression\n",
    "linear_model = LinearRegression()"
   ]
  },
  {
   "cell_type": "code",
   "execution_count": 433,
   "id": "d25f18e2",
   "metadata": {},
   "outputs": [],
   "source": [
    "import numpy as np"
   ]
  },
  {
   "cell_type": "code",
   "execution_count": 434,
   "id": "8ef77535",
   "metadata": {},
   "outputs": [],
   "source": [
    "x1,x2,x3,y = df['Value_lastmonth'],df['Value_2monthback'],df['Value_3monthback'],df['Value']\n",
    "x1,x2,x3,y = np.array(x1), np.array(x2), np.array(x3), np.array(y)"
   ]
  },
  {
   "cell_type": "code",
   "execution_count": 435,
   "id": "762bb406",
   "metadata": {},
   "outputs": [],
   "source": [
    "x1, x2, x3, y = x1.reshape(-1,1),x2.reshape(-1,1),x3.reshape(-1,1),y.reshape(-1,1) "
   ]
  },
  {
   "cell_type": "code",
   "execution_count": 436,
   "id": "7f2de0c6",
   "metadata": {},
   "outputs": [
    {
     "name": "stdout",
     "output_type": "stream",
     "text": [
      "[[  35.4    35.1    35.2 ]\n",
      " [  36.2    35.4    35.1 ]\n",
      " [  37.4    36.2    35.4 ]\n",
      " ...\n",
      " [1655.7  1672.5  1683.65]\n",
      " [1653.75 1655.7  1672.5 ]\n",
      " [1570.7  1653.75 1655.7 ]]\n"
     ]
    }
   ],
   "source": [
    "final_x = np.concatenate((x1,x2,x3),axis=1)\n",
    "print(final_x)"
   ]
  },
  {
   "cell_type": "code",
   "execution_count": 437,
   "id": "2902ead3",
   "metadata": {},
   "outputs": [],
   "source": [
    "from sklearn.model_selection import train_test_split\n",
    "x_train, x_test, y_train, y_test = final_x[:-200],final_x[-200:],y[:-200],y[-200:]"
   ]
  },
  {
   "cell_type": "code",
   "execution_count": 438,
   "id": "d0c8a4da",
   "metadata": {},
   "outputs": [
    {
     "data": {
      "text/plain": [
       "10584"
      ]
     },
     "execution_count": 438,
     "metadata": {},
     "output_type": "execute_result"
    }
   ],
   "source": [
    "len(x_train)"
   ]
  },
  {
   "cell_type": "code",
   "execution_count": 439,
   "id": "225672b5",
   "metadata": {},
   "outputs": [
    {
     "data": {
      "text/html": [
       "<style>#sk-container-id-21 {color: black;background-color: white;}#sk-container-id-21 pre{padding: 0;}#sk-container-id-21 div.sk-toggleable {background-color: white;}#sk-container-id-21 label.sk-toggleable__label {cursor: pointer;display: block;width: 100%;margin-bottom: 0;padding: 0.3em;box-sizing: border-box;text-align: center;}#sk-container-id-21 label.sk-toggleable__label-arrow:before {content: \"▸\";float: left;margin-right: 0.25em;color: #696969;}#sk-container-id-21 label.sk-toggleable__label-arrow:hover:before {color: black;}#sk-container-id-21 div.sk-estimator:hover label.sk-toggleable__label-arrow:before {color: black;}#sk-container-id-21 div.sk-toggleable__content {max-height: 0;max-width: 0;overflow: hidden;text-align: left;background-color: #f0f8ff;}#sk-container-id-21 div.sk-toggleable__content pre {margin: 0.2em;color: black;border-radius: 0.25em;background-color: #f0f8ff;}#sk-container-id-21 input.sk-toggleable__control:checked~div.sk-toggleable__content {max-height: 200px;max-width: 100%;overflow: auto;}#sk-container-id-21 input.sk-toggleable__control:checked~label.sk-toggleable__label-arrow:before {content: \"▾\";}#sk-container-id-21 div.sk-estimator input.sk-toggleable__control:checked~label.sk-toggleable__label {background-color: #d4ebff;}#sk-container-id-21 div.sk-label input.sk-toggleable__control:checked~label.sk-toggleable__label {background-color: #d4ebff;}#sk-container-id-21 input.sk-hidden--visually {border: 0;clip: rect(1px 1px 1px 1px);clip: rect(1px, 1px, 1px, 1px);height: 1px;margin: -1px;overflow: hidden;padding: 0;position: absolute;width: 1px;}#sk-container-id-21 div.sk-estimator {font-family: monospace;background-color: #f0f8ff;border: 1px dotted black;border-radius: 0.25em;box-sizing: border-box;margin-bottom: 0.5em;}#sk-container-id-21 div.sk-estimator:hover {background-color: #d4ebff;}#sk-container-id-21 div.sk-parallel-item::after {content: \"\";width: 100%;border-bottom: 1px solid gray;flex-grow: 1;}#sk-container-id-21 div.sk-label:hover label.sk-toggleable__label {background-color: #d4ebff;}#sk-container-id-21 div.sk-serial::before {content: \"\";position: absolute;border-left: 1px solid gray;box-sizing: border-box;top: 0;bottom: 0;left: 50%;z-index: 0;}#sk-container-id-21 div.sk-serial {display: flex;flex-direction: column;align-items: center;background-color: white;padding-right: 0.2em;padding-left: 0.2em;position: relative;}#sk-container-id-21 div.sk-item {position: relative;z-index: 1;}#sk-container-id-21 div.sk-parallel {display: flex;align-items: stretch;justify-content: center;background-color: white;position: relative;}#sk-container-id-21 div.sk-item::before, #sk-container-id-21 div.sk-parallel-item::before {content: \"\";position: absolute;border-left: 1px solid gray;box-sizing: border-box;top: 0;bottom: 0;left: 50%;z-index: -1;}#sk-container-id-21 div.sk-parallel-item {display: flex;flex-direction: column;z-index: 1;position: relative;background-color: white;}#sk-container-id-21 div.sk-parallel-item:first-child::after {align-self: flex-end;width: 50%;}#sk-container-id-21 div.sk-parallel-item:last-child::after {align-self: flex-start;width: 50%;}#sk-container-id-21 div.sk-parallel-item:only-child::after {width: 0;}#sk-container-id-21 div.sk-dashed-wrapped {border: 1px dashed gray;margin: 0 0.4em 0.5em 0.4em;box-sizing: border-box;padding-bottom: 0.4em;background-color: white;}#sk-container-id-21 div.sk-label label {font-family: monospace;font-weight: bold;display: inline-block;line-height: 1.2em;}#sk-container-id-21 div.sk-label-container {text-align: center;}#sk-container-id-21 div.sk-container {/* jupyter's `normalize.less` sets `[hidden] { display: none; }` but bootstrap.min.css set `[hidden] { display: none !important; }` so we also need the `!important` here to be able to override the default hidden behavior on the sphinx rendered scikit-learn.org. See: https://github.com/scikit-learn/scikit-learn/issues/21755 */display: inline-block !important;position: relative;}#sk-container-id-21 div.sk-text-repr-fallback {display: none;}</style><div id=\"sk-container-id-21\" class=\"sk-top-container\"><div class=\"sk-text-repr-fallback\"><pre>LinearRegression()</pre><b>In a Jupyter environment, please rerun this cell to show the HTML representation or trust the notebook. <br />On GitHub, the HTML representation is unable to render, please try loading this page with nbviewer.org.</b></div><div class=\"sk-container\" hidden><div class=\"sk-item\"><div class=\"sk-estimator sk-toggleable\"><input class=\"sk-toggleable__control sk-hidden--visually\" id=\"sk-estimator-id-21\" type=\"checkbox\" checked><label for=\"sk-estimator-id-21\" class=\"sk-toggleable__label sk-toggleable__label-arrow\">LinearRegression</label><div class=\"sk-toggleable__content\"><pre>LinearRegression()</pre></div></div></div></div></div>"
      ],
      "text/plain": [
       "LinearRegression()"
      ]
     },
     "execution_count": 439,
     "metadata": {},
     "output_type": "execute_result"
    }
   ],
   "source": [
    "linear_model.fit(x_train, y_train)"
   ]
  },
  {
   "cell_type": "code",
   "execution_count": 440,
   "id": "16f0b1d0",
   "metadata": {},
   "outputs": [
    {
     "data": {
      "text/plain": [
       "array([[35.63331644]])"
      ]
     },
     "execution_count": 440,
     "metadata": {},
     "output_type": "execute_result"
    }
   ],
   "source": [
    "prediction = linear_model.predict(x_test)\n",
    "linear_model.predict([[35.40,35.10,35.20]])"
   ]
  },
  {
   "cell_type": "code",
   "execution_count": 441,
   "id": "98c34240",
   "metadata": {},
   "outputs": [
    {
     "data": {
      "text/plain": [
       "<matplotlib.legend.Legend at 0x1ea3d7aa6e0>"
      ]
     },
     "execution_count": 441,
     "metadata": {},
     "output_type": "execute_result"
    },
    {
     "data": {
      "image/png": "[encoded data removed]",
      "text/plain": [
       "<Figure size 640x480 with 1 Axes>"
      ]
     },
     "metadata": {},
     "output_type": "display_data"
    }
   ],
   "source": [
    "pt.plot(prediction, label='Linear Regression Prediction',color='red')\n",
    "pt.plot(y_test,label='Actual Value')\n",
    "pt.legend(loc='upper left')"
   ]
  },
  {
   "cell_type": "markdown",
   "id": "02d0c120",
   "metadata": {},
   "source": [
    "#### 3. Time series forecasting model for vegetable selling data set."
   ]
  },
  {
   "cell_type": "code",
   "execution_count": 442,
   "id": "ac5b2f92",
   "metadata": {},
   "outputs": [],
   "source": [
    "import pandas as pd\n",
    "import matplotlib.pyplot as pt"
   ]
  },
  {
   "cell_type": "code",
   "execution_count": 443,
   "id": "4b7722e1",
   "metadata": {},
   "outputs": [],
   "source": [
    "df = pd.read_csv(\"vegetable_selling_data.csv\",index_col=\"Date\",usecols=['Date','Average'],parse_dates=True)"
   ]
  },
  {
   "cell_type": "code",
   "execution_count": 444,
   "id": "f48dad48",
   "metadata": {},
   "outputs": [
    {
     "data": {
      "text/html": [
       "<div>\n",
       "<style scoped>\n",
       "    .dataframe tbody tr th:only-of-type {\n",
       "        vertical-align: middle;\n",
       "    }\n",
       "\n",
       "    .dataframe tbody tr th {\n",
       "        vertical-align: top;\n",
       "    }\n",
       "\n",
       "    .dataframe thead th {\n",
       "        text-align: right;\n",
       "    }\n",
       "</style>\n",
       "<table border=\"1\" class=\"dataframe\">\n",
       "  <thead>\n",
       "    <tr style=\"text-align: right;\">\n",
       "      <th></th>\n",
       "      <th>Average</th>\n",
       "    </tr>\n",
       "    <tr>\n",
       "      <th>Date</th>\n",
       "      <th></th>\n",
       "    </tr>\n",
       "  </thead>\n",
       "  <tbody>\n",
       "    <tr>\n",
       "      <th>2013-06-16</th>\n",
       "      <td>37.5</td>\n",
       "    </tr>\n",
       "    <tr>\n",
       "      <th>2013-06-16</th>\n",
       "      <td>29.0</td>\n",
       "    </tr>\n",
       "    <tr>\n",
       "      <th>2013-06-16</th>\n",
       "      <td>20.5</td>\n",
       "    </tr>\n",
       "    <tr>\n",
       "      <th>2013-06-16</th>\n",
       "      <td>15.5</td>\n",
       "    </tr>\n",
       "    <tr>\n",
       "      <th>2013-06-16</th>\n",
       "      <td>29.0</td>\n",
       "    </tr>\n",
       "    <tr>\n",
       "      <th>...</th>\n",
       "      <td>...</td>\n",
       "    </tr>\n",
       "    <tr>\n",
       "      <th>2021-05-13</th>\n",
       "      <td>110.0</td>\n",
       "    </tr>\n",
       "    <tr>\n",
       "      <th>2021-05-13</th>\n",
       "      <td>275.0</td>\n",
       "    </tr>\n",
       "    <tr>\n",
       "      <th>2021-05-13</th>\n",
       "      <td>230.0</td>\n",
       "    </tr>\n",
       "    <tr>\n",
       "      <th>2021-05-13</th>\n",
       "      <td>225.0</td>\n",
       "    </tr>\n",
       "    <tr>\n",
       "      <th>2021-05-13</th>\n",
       "      <td>245.0</td>\n",
       "    </tr>\n",
       "  </tbody>\n",
       "</table>\n",
       "<p>197161 rows × 1 columns</p>\n",
       "</div>"
      ],
      "text/plain": [
       "            Average\n",
       "Date               \n",
       "2013-06-16     37.5\n",
       "2013-06-16     29.0\n",
       "2013-06-16     20.5\n",
       "2013-06-16     15.5\n",
       "2013-06-16     29.0\n",
       "...             ...\n",
       "2021-05-13    110.0\n",
       "2021-05-13    275.0\n",
       "2021-05-13    230.0\n",
       "2021-05-13    225.0\n",
       "2021-05-13    245.0\n",
       "\n",
       "[197161 rows x 1 columns]"
      ]
     },
     "execution_count": 444,
     "metadata": {},
     "output_type": "execute_result"
    }
   ],
   "source": [
    "df"
   ]
  },
  {
   "cell_type": "code",
   "execution_count": 445,
   "id": "4e1df989",
   "metadata": {},
   "outputs": [],
   "source": [
    "df.columns = ['Average']"
   ]
  },
  {
   "cell_type": "code",
   "execution_count": 446,
   "id": "b420436f",
   "metadata": {},
   "outputs": [
    {
     "data": {
      "text/plain": [
       "<Axes: xlabel='Date'>"
      ]
     },
     "execution_count": 446,
     "metadata": {},
     "output_type": "execute_result"
    },
    {
     "data": {
      "image/png": "[encoded data removed]",
      "text/plain": [
       "<Figure size 1500x1000 with 1 Axes>"
      ]
     },
     "metadata": {},
     "output_type": "display_data"
    }
   ],
   "source": [
    "df.plot(figsize=(15, 10))"
   ]
  },
  {
   "cell_type": "code",
   "execution_count": 447,
   "id": "ef14cd84",
   "metadata": {},
   "outputs": [],
   "source": [
    "df['Average_lastmonth']=df['Average'].shift(+1)\n",
    "df['Average_2monthback']=df['Average'].shift(+2)\n",
    "df['Average_3monthback']=df['Average'].shift(+3)"
   ]
  },
  {
   "cell_type": "code",
   "execution_count": 448,
   "id": "d819befe",
   "metadata": {},
   "outputs": [
    {
     "data": {
      "text/html": [
       "<div>\n",
       "<style scoped>\n",
       "    .dataframe tbody tr th:only-of-type {\n",
       "        vertical-align: middle;\n",
       "    }\n",
       "\n",
       "    .dataframe tbody tr th {\n",
       "        vertical-align: top;\n",
       "    }\n",
       "\n",
       "    .dataframe thead th {\n",
       "        text-align: right;\n",
       "    }\n",
       "</style>\n",
       "<table border=\"1\" class=\"dataframe\">\n",
       "  <thead>\n",
       "    <tr style=\"text-align: right;\">\n",
       "      <th></th>\n",
       "      <th>Average</th>\n",
       "      <th>Average_lastmonth</th>\n",
       "      <th>Average_2monthback</th>\n",
       "      <th>Average_3monthback</th>\n",
       "    </tr>\n",
       "    <tr>\n",
       "      <th>Date</th>\n",
       "      <th></th>\n",
       "      <th></th>\n",
       "      <th></th>\n",
       "      <th></th>\n",
       "    </tr>\n",
       "  </thead>\n",
       "  <tbody>\n",
       "    <tr>\n",
       "      <th>2013-06-16</th>\n",
       "      <td>37.5</td>\n",
       "      <td>NaN</td>\n",
       "      <td>NaN</td>\n",
       "      <td>NaN</td>\n",
       "    </tr>\n",
       "    <tr>\n",
       "      <th>2013-06-16</th>\n",
       "      <td>29.0</td>\n",
       "      <td>37.5</td>\n",
       "      <td>NaN</td>\n",
       "      <td>NaN</td>\n",
       "    </tr>\n",
       "    <tr>\n",
       "      <th>2013-06-16</th>\n",
       "      <td>20.5</td>\n",
       "      <td>29.0</td>\n",
       "      <td>37.5</td>\n",
       "      <td>NaN</td>\n",
       "    </tr>\n",
       "    <tr>\n",
       "      <th>2013-06-16</th>\n",
       "      <td>15.5</td>\n",
       "      <td>20.5</td>\n",
       "      <td>29.0</td>\n",
       "      <td>37.5</td>\n",
       "    </tr>\n",
       "    <tr>\n",
       "      <th>2013-06-16</th>\n",
       "      <td>29.0</td>\n",
       "      <td>15.5</td>\n",
       "      <td>20.5</td>\n",
       "      <td>29.0</td>\n",
       "    </tr>\n",
       "    <tr>\n",
       "      <th>...</th>\n",
       "      <td>...</td>\n",
       "      <td>...</td>\n",
       "      <td>...</td>\n",
       "      <td>...</td>\n",
       "    </tr>\n",
       "    <tr>\n",
       "      <th>2021-05-13</th>\n",
       "      <td>110.0</td>\n",
       "      <td>245.0</td>\n",
       "      <td>85.0</td>\n",
       "      <td>55.0</td>\n",
       "    </tr>\n",
       "    <tr>\n",
       "      <th>2021-05-13</th>\n",
       "      <td>275.0</td>\n",
       "      <td>110.0</td>\n",
       "      <td>245.0</td>\n",
       "      <td>85.0</td>\n",
       "    </tr>\n",
       "    <tr>\n",
       "      <th>2021-05-13</th>\n",
       "      <td>230.0</td>\n",
       "      <td>275.0</td>\n",
       "      <td>110.0</td>\n",
       "      <td>245.0</td>\n",
       "    </tr>\n",
       "    <tr>\n",
       "      <th>2021-05-13</th>\n",
       "      <td>225.0</td>\n",
       "      <td>230.0</td>\n",
       "      <td>275.0</td>\n",
       "      <td>110.0</td>\n",
       "    </tr>\n",
       "    <tr>\n",
       "      <th>2021-05-13</th>\n",
       "      <td>245.0</td>\n",
       "      <td>225.0</td>\n",
       "      <td>230.0</td>\n",
       "      <td>275.0</td>\n",
       "    </tr>\n",
       "  </tbody>\n",
       "</table>\n",
       "<p>197161 rows × 4 columns</p>\n",
       "</div>"
      ],
      "text/plain": [
       "            Average  Average_lastmonth  Average_2monthback  Average_3monthback\n",
       "Date                                                                          \n",
       "2013-06-16     37.5                NaN                 NaN                 NaN\n",
       "2013-06-16     29.0               37.5                 NaN                 NaN\n",
       "2013-06-16     20.5               29.0                37.5                 NaN\n",
       "2013-06-16     15.5               20.5                29.0                37.5\n",
       "2013-06-16     29.0               15.5                20.5                29.0\n",
       "...             ...                ...                 ...                 ...\n",
       "2021-05-13    110.0              245.0                85.0                55.0\n",
       "2021-05-13    275.0              110.0               245.0                85.0\n",
       "2021-05-13    230.0              275.0               110.0               245.0\n",
       "2021-05-13    225.0              230.0               275.0               110.0\n",
       "2021-05-13    245.0              225.0               230.0               275.0\n",
       "\n",
       "[197161 rows x 4 columns]"
      ]
     },
     "execution_count": 448,
     "metadata": {},
     "output_type": "execute_result"
    }
   ],
   "source": [
    "df"
   ]
  },
  {
   "cell_type": "code",
   "execution_count": 449,
   "id": "0c2f25b1",
   "metadata": {},
   "outputs": [
    {
     "data": {
      "text/html": [
       "<div>\n",
       "<style scoped>\n",
       "    .dataframe tbody tr th:only-of-type {\n",
       "        vertical-align: middle;\n",
       "    }\n",
       "\n",
       "    .dataframe tbody tr th {\n",
       "        vertical-align: top;\n",
       "    }\n",
       "\n",
       "    .dataframe thead th {\n",
       "        text-align: right;\n",
       "    }\n",
       "</style>\n",
       "<table border=\"1\" class=\"dataframe\">\n",
       "  <thead>\n",
       "    <tr style=\"text-align: right;\">\n",
       "      <th></th>\n",
       "      <th>Average</th>\n",
       "      <th>Average_lastmonth</th>\n",
       "      <th>Average_2monthback</th>\n",
       "      <th>Average_3monthback</th>\n",
       "    </tr>\n",
       "    <tr>\n",
       "      <th>Date</th>\n",
       "      <th></th>\n",
       "      <th></th>\n",
       "      <th></th>\n",
       "      <th></th>\n",
       "    </tr>\n",
       "  </thead>\n",
       "  <tbody>\n",
       "    <tr>\n",
       "      <th>2013-06-16</th>\n",
       "      <td>15.5</td>\n",
       "      <td>20.5</td>\n",
       "      <td>29.0</td>\n",
       "      <td>37.5</td>\n",
       "    </tr>\n",
       "    <tr>\n",
       "      <th>2013-06-16</th>\n",
       "      <td>29.0</td>\n",
       "      <td>15.5</td>\n",
       "      <td>20.5</td>\n",
       "      <td>29.0</td>\n",
       "    </tr>\n",
       "    <tr>\n",
       "      <th>2013-06-16</th>\n",
       "      <td>32.5</td>\n",
       "      <td>29.0</td>\n",
       "      <td>15.5</td>\n",
       "      <td>20.5</td>\n",
       "    </tr>\n",
       "    <tr>\n",
       "      <th>2013-06-16</th>\n",
       "      <td>8.0</td>\n",
       "      <td>32.5</td>\n",
       "      <td>29.0</td>\n",
       "      <td>15.5</td>\n",
       "    </tr>\n",
       "    <tr>\n",
       "      <th>2013-06-16</th>\n",
       "      <td>32.5</td>\n",
       "      <td>8.0</td>\n",
       "      <td>32.5</td>\n",
       "      <td>29.0</td>\n",
       "    </tr>\n",
       "    <tr>\n",
       "      <th>...</th>\n",
       "      <td>...</td>\n",
       "      <td>...</td>\n",
       "      <td>...</td>\n",
       "      <td>...</td>\n",
       "    </tr>\n",
       "    <tr>\n",
       "      <th>2021-05-13</th>\n",
       "      <td>110.0</td>\n",
       "      <td>245.0</td>\n",
       "      <td>85.0</td>\n",
       "      <td>55.0</td>\n",
       "    </tr>\n",
       "    <tr>\n",
       "      <th>2021-05-13</th>\n",
       "      <td>275.0</td>\n",
       "      <td>110.0</td>\n",
       "      <td>245.0</td>\n",
       "      <td>85.0</td>\n",
       "    </tr>\n",
       "    <tr>\n",
       "      <th>2021-05-13</th>\n",
       "      <td>230.0</td>\n",
       "      <td>275.0</td>\n",
       "      <td>110.0</td>\n",
       "      <td>245.0</td>\n",
       "    </tr>\n",
       "    <tr>\n",
       "      <th>2021-05-13</th>\n",
       "      <td>225.0</td>\n",
       "      <td>230.0</td>\n",
       "      <td>275.0</td>\n",
       "      <td>110.0</td>\n",
       "    </tr>\n",
       "    <tr>\n",
       "      <th>2021-05-13</th>\n",
       "      <td>245.0</td>\n",
       "      <td>225.0</td>\n",
       "      <td>230.0</td>\n",
       "      <td>275.0</td>\n",
       "    </tr>\n",
       "  </tbody>\n",
       "</table>\n",
       "<p>197158 rows × 4 columns</p>\n",
       "</div>"
      ],
      "text/plain": [
       "            Average  Average_lastmonth  Average_2monthback  Average_3monthback\n",
       "Date                                                                          \n",
       "2013-06-16     15.5               20.5                29.0                37.5\n",
       "2013-06-16     29.0               15.5                20.5                29.0\n",
       "2013-06-16     32.5               29.0                15.5                20.5\n",
       "2013-06-16      8.0               32.5                29.0                15.5\n",
       "2013-06-16     32.5                8.0                32.5                29.0\n",
       "...             ...                ...                 ...                 ...\n",
       "2021-05-13    110.0              245.0                85.0                55.0\n",
       "2021-05-13    275.0              110.0               245.0                85.0\n",
       "2021-05-13    230.0              275.0               110.0               245.0\n",
       "2021-05-13    225.0              230.0               275.0               110.0\n",
       "2021-05-13    245.0              225.0               230.0               275.0\n",
       "\n",
       "[197158 rows x 4 columns]"
      ]
     },
     "execution_count": 449,
     "metadata": {},
     "output_type": "execute_result"
    }
   ],
   "source": [
    "df=df.dropna()\n",
    "df"
   ]
  },
  {
   "cell_type": "code",
   "execution_count": 450,
   "id": "d316c980",
   "metadata": {},
   "outputs": [],
   "source": [
    "from sklearn.linear_model import LinearRegression\n",
    "linear_model = LinearRegression()"
   ]
  },
  {
   "cell_type": "code",
   "execution_count": 451,
   "id": "6b7da39f",
   "metadata": {},
   "outputs": [],
   "source": [
    "import numpy as np"
   ]
  },
  {
   "cell_type": "code",
   "execution_count": 452,
   "id": "1943847f",
   "metadata": {},
   "outputs": [],
   "source": [
    "x1,x2,x3,y = df['Average_lastmonth'],df['Average_2monthback'],df['Average_3monthback'],df['Average']\n",
    "x1,x2,x3,y = np.array(x1), np.array(x2), np.array(x3), np.array(y)"
   ]
  },
  {
   "cell_type": "code",
   "execution_count": 453,
   "id": "5a5d11bd",
   "metadata": {},
   "outputs": [],
   "source": [
    "x1, x2, x3, y = x1.reshape(-1,1),x2.reshape(-1,1),x3.reshape(-1,1),y.reshape(-1,1) "
   ]
  },
  {
   "cell_type": "code",
   "execution_count": 454,
   "id": "db657dac",
   "metadata": {},
   "outputs": [
    {
     "name": "stdout",
     "output_type": "stream",
     "text": [
      "[[ 20.5  29.   37.5]\n",
      " [ 15.5  20.5  29. ]\n",
      " [ 29.   15.5  20.5]\n",
      " ...\n",
      " [275.  110.  245. ]\n",
      " [230.  275.  110. ]\n",
      " [225.  230.  275. ]]\n"
     ]
    }
   ],
   "source": [
    "final_x = np.concatenate((x1,x2,x3),axis=1)\n",
    "print(final_x)"
   ]
  },
  {
   "cell_type": "code",
   "execution_count": 455,
   "id": "dc870b19",
   "metadata": {},
   "outputs": [],
   "source": [
    "from sklearn.model_selection import train_test_split\n",
    "x_train, x_test, y_train, y_test = final_x[:-200],final_x[-200:],y[:-200],y[-200:]"
   ]
  },
  {
   "cell_type": "code",
   "execution_count": 456,
   "id": "83e0bab5",
   "metadata": {},
   "outputs": [
    {
     "data": {
      "text/plain": [
       "196958"
      ]
     },
     "execution_count": 456,
     "metadata": {},
     "output_type": "execute_result"
    }
   ],
   "source": [
    "len(x_train)"
   ]
  },
  {
   "cell_type": "code",
   "execution_count": 457,
   "id": "cdd29072",
   "metadata": {},
   "outputs": [
    {
     "data": {
      "text/html": [
       "<style>#sk-container-id-22 {color: black;background-color: white;}#sk-container-id-22 pre{padding: 0;}#sk-container-id-22 div.sk-toggleable {background-color: white;}#sk-container-id-22 label.sk-toggleable__label {cursor: pointer;display: block;width: 100%;margin-bottom: 0;padding: 0.3em;box-sizing: border-box;text-align: center;}#sk-container-id-22 label.sk-toggleable__label-arrow:before {content: \"▸\";float: left;margin-right: 0.25em;color: #696969;}#sk-container-id-22 label.sk-toggleable__label-arrow:hover:before {color: black;}#sk-container-id-22 div.sk-estimator:hover label.sk-toggleable__label-arrow:before {color: black;}#sk-container-id-22 div.sk-toggleable__content {max-height: 0;max-width: 0;overflow: hidden;text-align: left;background-color: #f0f8ff;}#sk-container-id-22 div.sk-toggleable__content pre {margin: 0.2em;color: black;border-radius: 0.25em;background-color: #f0f8ff;}#sk-container-id-22 input.sk-toggleable__control:checked~div.sk-toggleable__content {max-height: 200px;max-width: 100%;overflow: auto;}#sk-container-id-22 input.sk-toggleable__control:checked~label.sk-toggleable__label-arrow:before {content: \"▾\";}#sk-container-id-22 div.sk-estimator input.sk-toggleable__control:checked~label.sk-toggleable__label {background-color: #d4ebff;}#sk-container-id-22 div.sk-label input.sk-toggleable__control:checked~label.sk-toggleable__label {background-color: #d4ebff;}#sk-container-id-22 input.sk-hidden--visually {border: 0;clip: rect(1px 1px 1px 1px);clip: rect(1px, 1px, 1px, 1px);height: 1px;margin: -1px;overflow: hidden;padding: 0;position: absolute;width: 1px;}#sk-container-id-22 div.sk-estimator {font-family: monospace;background-color: #f0f8ff;border: 1px dotted black;border-radius: 0.25em;box-sizing: border-box;margin-bottom: 0.5em;}#sk-container-id-22 div.sk-estimator:hover {background-color: #d4ebff;}#sk-container-id-22 div.sk-parallel-item::after {content: \"\";width: 100%;border-bottom: 1px solid gray;flex-grow: 1;}#sk-container-id-22 div.sk-label:hover label.sk-toggleable__label {background-color: #d4ebff;}#sk-container-id-22 div.sk-serial::before {content: \"\";position: absolute;border-left: 1px solid gray;box-sizing: border-box;top: 0;bottom: 0;left: 50%;z-index: 0;}#sk-container-id-22 div.sk-serial {display: flex;flex-direction: column;align-items: center;background-color: white;padding-right: 0.2em;padding-left: 0.2em;position: relative;}#sk-container-id-22 div.sk-item {position: relative;z-index: 1;}#sk-container-id-22 div.sk-parallel {display: flex;align-items: stretch;justify-content: center;background-color: white;position: relative;}#sk-container-id-22 div.sk-item::before, #sk-container-id-22 div.sk-parallel-item::before {content: \"\";position: absolute;border-left: 1px solid gray;box-sizing: border-box;top: 0;bottom: 0;left: 50%;z-index: -1;}#sk-container-id-22 div.sk-parallel-item {display: flex;flex-direction: column;z-index: 1;position: relative;background-color: white;}#sk-container-id-22 div.sk-parallel-item:first-child::after {align-self: flex-end;width: 50%;}#sk-container-id-22 div.sk-parallel-item:last-child::after {align-self: flex-start;width: 50%;}#sk-container-id-22 div.sk-parallel-item:only-child::after {width: 0;}#sk-container-id-22 div.sk-dashed-wrapped {border: 1px dashed gray;margin: 0 0.4em 0.5em 0.4em;box-sizing: border-box;padding-bottom: 0.4em;background-color: white;}#sk-container-id-22 div.sk-label label {font-family: monospace;font-weight: bold;display: inline-block;line-height: 1.2em;}#sk-container-id-22 div.sk-label-container {text-align: center;}#sk-container-id-22 div.sk-container {/* jupyter's `normalize.less` sets `[hidden] { display: none; }` but bootstrap.min.css set `[hidden] { display: none !important; }` so we also need the `!important` here to be able to override the default hidden behavior on the sphinx rendered scikit-learn.org. See: https://github.com/scikit-learn/scikit-learn/issues/21755 */display: inline-block !important;position: relative;}#sk-container-id-22 div.sk-text-repr-fallback {display: none;}</style><div id=\"sk-container-id-22\" class=\"sk-top-container\"><div class=\"sk-text-repr-fallback\"><pre>LinearRegression()</pre><b>In a Jupyter environment, please rerun this cell to show the HTML representation or trust the notebook. <br />On GitHub, the HTML representation is unable to render, please try loading this page with nbviewer.org.</b></div><div class=\"sk-container\" hidden><div class=\"sk-item\"><div class=\"sk-estimator sk-toggleable\"><input class=\"sk-toggleable__control sk-hidden--visually\" id=\"sk-estimator-id-22\" type=\"checkbox\" checked><label for=\"sk-estimator-id-22\" class=\"sk-toggleable__label sk-toggleable__label-arrow\">LinearRegression</label><div class=\"sk-toggleable__content\"><pre>LinearRegression()</pre></div></div></div></div></div>"
      ],
      "text/plain": [
       "LinearRegression()"
      ]
     },
     "execution_count": 457,
     "metadata": {},
     "output_type": "execute_result"
    }
   ],
   "source": [
    "linear_model.fit(x_train, y_train)"
   ]
  },
  {
   "cell_type": "code",
   "execution_count": 458,
   "id": "feac0727",
   "metadata": {},
   "outputs": [
    {
     "data": {
      "text/plain": [
       "array([[58.23433563]])"
      ]
     },
     "execution_count": 458,
     "metadata": {},
     "output_type": "execute_result"
    }
   ],
   "source": [
    "prediction = linear_model.predict(x_test)\n",
    "linear_model.predict([[20.5,29.0,37.5]])"
   ]
  },
  {
   "cell_type": "code",
   "execution_count": 459,
   "id": "accd2537",
   "metadata": {},
   "outputs": [
    {
     "data": {
      "text/plain": [
       "<matplotlib.legend.Legend at 0x1ea5f9c6530>"
      ]
     },
     "execution_count": 459,
     "metadata": {},
     "output_type": "execute_result"
    },
    {
     "data": {
      "image/png": "[encoded data removed]",
      "text/plain": [
       "<Figure size 640x480 with 1 Axes>"
      ]
     },
     "metadata": {},
     "output_type": "display_data"
    }
   ],
   "source": [
    "pt.plot(prediction, label='Linear Regression Prediction',color='red')\n",
    "pt.plot(y_test,label='Actual Value')\n",
    "pt.legend(loc='upper left')"
   ]
  }
 ],
 "metadata": {
  "kernelspec": {
   "display_name": "Python 3 (ipykernel)",
   "language": "python",
   "name": "python3"
  },
  "language_info": {
   "codemirror_mode": {
    "name": "ipython",
    "version": 3
   },
   "file_extension": ".py",
   "mimetype": "text/x-python",
   "name": "python",
   "nbconvert_exporter": "python",
   "pygments_lexer": "ipython3",
   "version": "3.10.9"
  }
 },
 "nbformat": 4,
 "nbformat_minor": 5
}
